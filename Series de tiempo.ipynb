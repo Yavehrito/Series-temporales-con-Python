{
 "cells": [
  {
   "cell_type": "markdown",
   "id": "4992cdc0",
   "metadata": {},
   "source": [
    "Generar datos aleatorios:"
   ]
  },
  {
   "cell_type": "code",
   "execution_count": 1,
   "id": "9d265b82",
   "metadata": {},
   "outputs": [],
   "source": [
    "import pandas as pd\n",
    "import numpy as np"
   ]
  },
  {
   "cell_type": "code",
   "execution_count": 5,
   "id": "4de60b5b",
   "metadata": {},
   "outputs": [
    {
     "name": "stdout",
     "output_type": "stream",
     "text": [
      "2023-01-01    99\n",
      "2023-01-02    91\n",
      "2023-01-03    53\n",
      "2023-01-04     3\n",
      "2023-01-05    41\n",
      "2023-01-06    96\n",
      "2023-01-07    75\n",
      "2023-01-08    10\n",
      "2023-01-09    61\n",
      "2023-01-10    55\n",
      "2023-01-11    70\n",
      "2023-01-12    35\n",
      "2023-01-13    74\n",
      "2023-01-14    76\n",
      "2023-01-15    76\n",
      "Freq: D, Name: Valores, dtype: int32\n"
     ]
    }
   ],
   "source": [
    "fechas = pd.date_range(start='2023-01-01', end='2023-01-15', freq='D')\n",
    "datos = np.random.randint(1,100, len(fechas))\n",
    "serie_temporal = pd.Series(data=datos, index=fechas, name='Valores') \n",
    "print(serie_temporal)\n"
   ]
  },
  {
   "cell_type": "markdown",
   "id": "b9455417",
   "metadata": {},
   "source": [
    "Para acceder a los datos:"
   ]
  },
  {
   "cell_type": "markdown",
   "id": "03c0c13b",
   "metadata": {},
   "source": [
    "Directamente a una fecha:"
   ]
  },
  {
   "cell_type": "code",
   "execution_count": 6,
   "id": "a69dca25",
   "metadata": {},
   "outputs": [
    {
     "name": "stdout",
     "output_type": "stream",
     "text": [
      "41\n"
     ]
    }
   ],
   "source": [
    "print(serie_temporal['2023-01-05'])"
   ]
  },
  {
   "cell_type": "markdown",
   "id": "2b2278cb",
   "metadata": {},
   "source": [
    "Indice posicional:"
   ]
  },
  {
   "cell_type": "code",
   "execution_count": null,
   "id": "cccaa118",
   "metadata": {},
   "outputs": [
    {
     "name": "stdout",
     "output_type": "stream",
     "text": [
      "41\n"
     ]
    }
   ],
   "source": [
    "print(serie_temporal.iloc[4])\n"
   ]
  },
  {
   "cell_type": "markdown",
   "id": "4aa39a1f",
   "metadata": {},
   "source": [
    "Para rangos de fechas de forma explicita:"
   ]
  },
  {
   "cell_type": "code",
   "execution_count": 10,
   "id": "39935776",
   "metadata": {},
   "outputs": [
    {
     "name": "stdout",
     "output_type": "stream",
     "text": [
      "2023-01-05    41\n",
      "2023-01-06    96\n",
      "2023-01-07    75\n",
      "2023-01-08    10\n",
      "2023-01-09    61\n",
      "2023-01-10    55\n",
      "Freq: D, Name: Valores, dtype: int32\n"
     ]
    }
   ],
   "source": [
    "print(serie_temporal['2023-01-05':'2023-01-10'])  "
   ]
  },
  {
   "cell_type": "markdown",
   "id": "48115ea2",
   "metadata": {},
   "source": [
    "Para una selección por posición:"
   ]
  },
  {
   "cell_type": "code",
   "execution_count": null,
   "id": "231cc3e0",
   "metadata": {},
   "outputs": [
    {
     "name": "stdout",
     "output_type": "stream",
     "text": [
      "2023-01-03    53\n",
      "2023-01-04     3\n",
      "2023-01-05    41\n",
      "2023-01-06    96\n",
      "2023-01-07    75\n",
      "2023-01-08    10\n",
      "Freq: D, Name: Valores, dtype: int32\n"
     ]
    }
   ],
   "source": [
    "print(serie_temporal[2:8] ) "
   ]
  },
  {
   "cell_type": "markdown",
   "id": "e46bb5df",
   "metadata": {},
   "source": [
    "Selección por condiciones "
   ]
  },
  {
   "cell_type": "code",
   "execution_count": 12,
   "id": "dfe1a068",
   "metadata": {},
   "outputs": [
    {
     "name": "stdout",
     "output_type": "stream",
     "text": [
      "2023-01-01    99\n",
      "2023-01-02    91\n",
      "2023-01-03    53\n",
      "2023-01-06    96\n",
      "2023-01-07    75\n",
      "2023-01-09    61\n",
      "2023-01-10    55\n",
      "2023-01-11    70\n",
      "2023-01-13    74\n",
      "2023-01-14    76\n",
      "2023-01-15    76\n",
      "Name: Valores, dtype: int32\n"
     ]
    }
   ],
   "source": [
    "print(serie_temporal[serie_temporal>50])  "
   ]
  },
  {
   "cell_type": "markdown",
   "id": "d15024df",
   "metadata": {},
   "source": [
    "Metodos loc e iloc:\n",
    "iloc por posición, loc indice particular"
   ]
  },
  {
   "cell_type": "code",
   "execution_count": 14,
   "id": "94a5a660",
   "metadata": {},
   "outputs": [
    {
     "name": "stdout",
     "output_type": "stream",
     "text": [
      "41\n",
      "2023-01-05    41\n",
      "2023-01-06    96\n",
      "2023-01-07    75\n",
      "2023-01-08    10\n",
      "2023-01-09    61\n",
      "2023-01-10    55\n",
      "Freq: D, Name: Valores, dtype: int32\n",
      "41\n",
      "2023-01-03    53\n",
      "2023-01-04     3\n",
      "2023-01-05    41\n",
      "2023-01-06    96\n",
      "2023-01-07    75\n",
      "2023-01-08    10\n",
      "Freq: D, Name: Valores, dtype: int32\n"
     ]
    }
   ],
   "source": [
    "print(serie_temporal.loc['2023-01-05'])\n",
    "print(serie_temporal.loc['2023-01-05':'2023-01-10']) \n",
    "print(serie_temporal.iloc[4])\n",
    "print(serie_temporal.iloc[2:8])"
   ]
  },
  {
   "cell_type": "markdown",
   "id": "14423948",
   "metadata": {},
   "source": [
    "Para nuevas fechas re-indexadas: "
   ]
  },
  {
   "cell_type": "code",
   "execution_count": 15,
   "id": "559ae336",
   "metadata": {},
   "outputs": [
    {
     "name": "stdout",
     "output_type": "stream",
     "text": [
      "2023-01-01    99\n",
      "2023-01-02    91\n",
      "2023-01-03    53\n",
      "2023-01-04     3\n",
      "2023-01-05    41\n",
      "2023-01-06    96\n",
      "2023-01-07    75\n",
      "2023-01-08    10\n",
      "2023-01-09    61\n",
      "2023-01-10    55\n",
      "2023-01-11    70\n",
      "2023-01-12    35\n",
      "2023-01-13    74\n",
      "2023-01-14    76\n",
      "2023-01-15    76\n",
      "2023-01-16     0\n",
      "2023-01-17     0\n",
      "2023-01-18     0\n",
      "2023-01-19     0\n",
      "2023-01-20     0\n",
      "Freq: D, Name: Valores, dtype: int32\n"
     ]
    }
   ],
   "source": [
    "nuevas_fechas = pd.date_range(start='2023-01-01', end='2023-01-20', freq='D')\n",
    "serie_reindexada = serie_temporal.reindex(nuevas_fechas, fill_value=0)\n",
    "print(serie_reindexada)"
   ]
  },
  {
   "cell_type": "markdown",
   "id": "1a9a8256",
   "metadata": {},
   "source": [
    "Podemos hacer un ajuste de frecuencia: utiliza el promedio de los días "
   ]
  },
  {
   "cell_type": "code",
   "execution_count": 16,
   "id": "995fd889",
   "metadata": {},
   "outputs": [
    {
     "name": "stdout",
     "output_type": "stream",
     "text": [
      "2023-01-01    99.000000\n",
      "2023-01-08    52.714286\n",
      "2023-01-15    63.857143\n",
      "Freq: W-SUN, Name: Valores, dtype: float64\n"
     ]
    }
   ],
   "source": [
    "serie_semanal = serie_temporal.resample('W').mean()\n",
    "print(serie_semanal)"
   ]
  }
 ],
 "metadata": {
  "kernelspec": {
   "display_name": "Python 3",
   "language": "python",
   "name": "python3"
  },
  "language_info": {
   "codemirror_mode": {
    "name": "ipython",
    "version": 3
   },
   "file_extension": ".py",
   "mimetype": "text/x-python",
   "name": "python",
   "nbconvert_exporter": "python",
   "pygments_lexer": "ipython3",
   "version": "3.13.5"
  }
 },
 "nbformat": 4,
 "nbformat_minor": 5
}
