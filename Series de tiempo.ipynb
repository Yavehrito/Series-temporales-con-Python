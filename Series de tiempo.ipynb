{
 "cells": [
  {
   "cell_type": "markdown",
   "id": "4992cdc0",
   "metadata": {},
   "source": [
    "Generar datos aleatorios:"
   ]
  },
  {
   "cell_type": "code",
   "execution_count": 2,
   "id": "9d265b82",
   "metadata": {},
   "outputs": [],
   "source": [
    "import pandas as pd\n",
    "import numpy as np"
   ]
  },
  {
   "cell_type": "code",
   "execution_count": 3,
   "id": "4de60b5b",
   "metadata": {},
   "outputs": [
    {
     "name": "stdout",
     "output_type": "stream",
     "text": [
      "2023-01-01    19\n",
      "2023-01-02    60\n",
      "2023-01-03    32\n",
      "2023-01-04    84\n",
      "2023-01-05    97\n",
      "2023-01-06    46\n",
      "2023-01-07    96\n",
      "2023-01-08    91\n",
      "2023-01-09    40\n",
      "2023-01-10    12\n",
      "2023-01-11    91\n",
      "2023-01-12    17\n",
      "2023-01-13    29\n",
      "2023-01-14    79\n",
      "2023-01-15    70\n",
      "Freq: D, Name: Valores, dtype: int32\n"
     ]
    }
   ],
   "source": [
    "fechas = pd.date_range(start='2023-01-01', end='2023-01-15', freq='D')\n",
    "datos = np.random.randint(1,100, len(fechas))\n",
    "serie_temporal = pd.Series(data=datos, index=fechas, name='Valores') \n",
    "print(serie_temporal)\n"
   ]
  },
  {
   "cell_type": "markdown",
   "id": "b9455417",
   "metadata": {},
   "source": [
    "Para acceder a los datos:"
   ]
  },
  {
   "cell_type": "markdown",
   "id": "03c0c13b",
   "metadata": {},
   "source": [
    "Directamente a una fecha:"
   ]
  },
  {
   "cell_type": "code",
   "execution_count": 4,
   "id": "a69dca25",
   "metadata": {},
   "outputs": [
    {
     "name": "stdout",
     "output_type": "stream",
     "text": [
      "97\n"
     ]
    }
   ],
   "source": [
    "print(serie_temporal['2023-01-05'])"
   ]
  },
  {
   "cell_type": "markdown",
   "id": "2b2278cb",
   "metadata": {},
   "source": [
    "Indice posicional:"
   ]
  },
  {
   "cell_type": "code",
   "execution_count": 5,
   "id": "cccaa118",
   "metadata": {},
   "outputs": [
    {
     "name": "stdout",
     "output_type": "stream",
     "text": [
      "97\n"
     ]
    }
   ],
   "source": [
    "print(serie_temporal.iloc[4])\n"
   ]
  },
  {
   "cell_type": "markdown",
   "id": "4aa39a1f",
   "metadata": {},
   "source": [
    "Para rangos de fechas de forma explicita:"
   ]
  },
  {
   "cell_type": "code",
   "execution_count": 6,
   "id": "39935776",
   "metadata": {},
   "outputs": [
    {
     "name": "stdout",
     "output_type": "stream",
     "text": [
      "2023-01-05    97\n",
      "2023-01-06    46\n",
      "2023-01-07    96\n",
      "2023-01-08    91\n",
      "2023-01-09    40\n",
      "2023-01-10    12\n",
      "Freq: D, Name: Valores, dtype: int32\n"
     ]
    }
   ],
   "source": [
    "print(serie_temporal['2023-01-05':'2023-01-10'])  "
   ]
  },
  {
   "cell_type": "markdown",
   "id": "48115ea2",
   "metadata": {},
   "source": [
    "Para una selección por posición:"
   ]
  },
  {
   "cell_type": "code",
   "execution_count": 7,
   "id": "231cc3e0",
   "metadata": {},
   "outputs": [
    {
     "name": "stdout",
     "output_type": "stream",
     "text": [
      "2023-01-03    32\n",
      "2023-01-04    84\n",
      "2023-01-05    97\n",
      "2023-01-06    46\n",
      "2023-01-07    96\n",
      "2023-01-08    91\n",
      "Freq: D, Name: Valores, dtype: int32\n"
     ]
    }
   ],
   "source": [
    "print(serie_temporal[2:8] ) "
   ]
  },
  {
   "cell_type": "markdown",
   "id": "e46bb5df",
   "metadata": {},
   "source": [
    "Selección por condiciones "
   ]
  },
  {
   "cell_type": "code",
   "execution_count": 8,
   "id": "dfe1a068",
   "metadata": {},
   "outputs": [
    {
     "name": "stdout",
     "output_type": "stream",
     "text": [
      "2023-01-02    60\n",
      "2023-01-04    84\n",
      "2023-01-05    97\n",
      "2023-01-07    96\n",
      "2023-01-08    91\n",
      "2023-01-11    91\n",
      "2023-01-14    79\n",
      "2023-01-15    70\n",
      "Name: Valores, dtype: int32\n"
     ]
    }
   ],
   "source": [
    "print(serie_temporal[serie_temporal>50])  "
   ]
  },
  {
   "cell_type": "markdown",
   "id": "d15024df",
   "metadata": {},
   "source": [
    "Metodos loc e iloc:\n",
    "iloc por posición, loc indice particular"
   ]
  },
  {
   "cell_type": "code",
   "execution_count": 9,
   "id": "94a5a660",
   "metadata": {},
   "outputs": [
    {
     "name": "stdout",
     "output_type": "stream",
     "text": [
      "97\n",
      "2023-01-05    97\n",
      "2023-01-06    46\n",
      "2023-01-07    96\n",
      "2023-01-08    91\n",
      "2023-01-09    40\n",
      "2023-01-10    12\n",
      "Freq: D, Name: Valores, dtype: int32\n",
      "97\n",
      "2023-01-03    32\n",
      "2023-01-04    84\n",
      "2023-01-05    97\n",
      "2023-01-06    46\n",
      "2023-01-07    96\n",
      "2023-01-08    91\n",
      "Freq: D, Name: Valores, dtype: int32\n"
     ]
    }
   ],
   "source": [
    "print(serie_temporal.loc['2023-01-05'])\n",
    "print(serie_temporal.loc['2023-01-05':'2023-01-10']) \n",
    "print(serie_temporal.iloc[4])\n",
    "print(serie_temporal.iloc[2:8])"
   ]
  },
  {
   "cell_type": "markdown",
   "id": "14423948",
   "metadata": {},
   "source": [
    "Para nuevas fechas re-indexadas: "
   ]
  },
  {
   "cell_type": "code",
   "execution_count": 10,
   "id": "559ae336",
   "metadata": {},
   "outputs": [
    {
     "name": "stdout",
     "output_type": "stream",
     "text": [
      "2023-01-01    19\n",
      "2023-01-02    60\n",
      "2023-01-03    32\n",
      "2023-01-04    84\n",
      "2023-01-05    97\n",
      "2023-01-06    46\n",
      "2023-01-07    96\n",
      "2023-01-08    91\n",
      "2023-01-09    40\n",
      "2023-01-10    12\n",
      "2023-01-11    91\n",
      "2023-01-12    17\n",
      "2023-01-13    29\n",
      "2023-01-14    79\n",
      "2023-01-15    70\n",
      "2023-01-16     0\n",
      "2023-01-17     0\n",
      "2023-01-18     0\n",
      "2023-01-19     0\n",
      "2023-01-20     0\n",
      "Freq: D, Name: Valores, dtype: int32\n"
     ]
    }
   ],
   "source": [
    "nuevas_fechas = pd.date_range(start='2023-01-01', end='2023-01-20', freq='D')\n",
    "serie_reindexada = serie_temporal.reindex(nuevas_fechas, fill_value=0)\n",
    "print(serie_reindexada)"
   ]
  },
  {
   "cell_type": "markdown",
   "id": "1a9a8256",
   "metadata": {},
   "source": [
    "Podemos hacer un ajuste de frecuencia: utiliza el promedio de los días "
   ]
  },
  {
   "cell_type": "code",
   "execution_count": 11,
   "id": "995fd889",
   "metadata": {},
   "outputs": [
    {
     "name": "stdout",
     "output_type": "stream",
     "text": [
      "2023-01-01    19.000000\n",
      "2023-01-08    72.285714\n",
      "2023-01-15    48.285714\n",
      "Freq: W-SUN, Name: Valores, dtype: float64\n"
     ]
    }
   ],
   "source": [
    "serie_semanal = serie_temporal.resample('W').mean()\n",
    "print(serie_semanal)"
   ]
  },
  {
   "cell_type": "markdown",
   "id": "04208ce7",
   "metadata": {},
   "source": [
    "Operaciones basicas"
   ]
  },
  {
   "cell_type": "code",
   "execution_count": 12,
   "id": "eaf71e48",
   "metadata": {},
   "outputs": [
    {
     "name": "stdout",
     "output_type": "stream",
     "text": [
      "2023-01-01     29\n",
      "2023-01-02     70\n",
      "2023-01-03     42\n",
      "2023-01-04     94\n",
      "2023-01-05    107\n",
      "2023-01-06     56\n",
      "2023-01-07    106\n",
      "2023-01-08    101\n",
      "2023-01-09     50\n",
      "2023-01-10     22\n",
      "2023-01-11    101\n",
      "2023-01-12     27\n",
      "2023-01-13     39\n",
      "2023-01-14     89\n",
      "2023-01-15     80\n",
      "Freq: D, Name: Valores, dtype: int32\n"
     ]
    }
   ],
   "source": [
    "print(serie_temporal + 10)"
   ]
  },
  {
   "cell_type": "code",
   "execution_count": 13,
   "id": "ccdcb959",
   "metadata": {},
   "outputs": [
    {
     "name": "stdout",
     "output_type": "stream",
     "text": [
      "2023-01-01     38\n",
      "2023-01-02    120\n",
      "2023-01-03     64\n",
      "2023-01-04    168\n",
      "2023-01-05    194\n",
      "2023-01-06     92\n",
      "2023-01-07    192\n",
      "2023-01-08    182\n",
      "2023-01-09     80\n",
      "2023-01-10     24\n",
      "2023-01-11    182\n",
      "2023-01-12     34\n",
      "2023-01-13     58\n",
      "2023-01-14    158\n",
      "2023-01-15    140\n",
      "Freq: D, Name: Valores, dtype: int32\n"
     ]
    }
   ],
   "source": [
    "print(serie_temporal * 2)"
   ]
  },
  {
   "cell_type": "code",
   "execution_count": 14,
   "id": "85e8887a",
   "metadata": {},
   "outputs": [
    {
     "name": "stdout",
     "output_type": "stream",
     "text": [
      "Media: 57.53333333333333\n",
      "Mediana: 60.0\n",
      "Max: 97\n",
      "Min: 12\n",
      "Desviación estándar: 31.29095411654636\n"
     ]
    }
   ],
   "source": [
    "print(\"Media:\", serie_temporal.mean())\n",
    "print(\"Mediana:\", serie_temporal.median())\n",
    "print(\"Max:\", serie_temporal.max())\n",
    "print(\"Min:\", serie_temporal.min())\n",
    "print(\"Desviación estándar:\", serie_temporal.std())\n"
   ]
  },
  {
   "cell_type": "markdown",
   "id": "18bfd574",
   "metadata": {},
   "source": [
    "desplazar dator"
   ]
  },
  {
   "cell_type": "code",
   "execution_count": 15,
   "id": "ee2fc5b9",
   "metadata": {},
   "outputs": [
    {
     "name": "stdout",
     "output_type": "stream",
     "text": [
      "2023-01-01     NaN\n",
      "2023-01-02    19.0\n",
      "2023-01-03    60.0\n",
      "2023-01-04    32.0\n",
      "2023-01-05    84.0\n",
      "2023-01-06    97.0\n",
      "2023-01-07    46.0\n",
      "2023-01-08    96.0\n",
      "2023-01-09    91.0\n",
      "2023-01-10    40.0\n",
      "2023-01-11    12.0\n",
      "2023-01-12    91.0\n",
      "2023-01-13    17.0\n",
      "2023-01-14    29.0\n",
      "2023-01-15    79.0\n",
      "Freq: D, Name: Valores, dtype: float64\n"
     ]
    }
   ],
   "source": [
    "print(serie_temporal.shift(1))"
   ]
  },
  {
   "cell_type": "code",
   "execution_count": 16,
   "id": "68f0a923",
   "metadata": {},
   "outputs": [
    {
     "name": "stdout",
     "output_type": "stream",
     "text": [
      "2023-01-01    60.0\n",
      "2023-01-02    32.0\n",
      "2023-01-03    84.0\n",
      "2023-01-04    97.0\n",
      "2023-01-05    46.0\n",
      "2023-01-06    96.0\n",
      "2023-01-07    91.0\n",
      "2023-01-08    40.0\n",
      "2023-01-09    12.0\n",
      "2023-01-10    91.0\n",
      "2023-01-11    17.0\n",
      "2023-01-12    29.0\n",
      "2023-01-13    79.0\n",
      "2023-01-14    70.0\n",
      "2023-01-15     NaN\n",
      "Freq: D, Name: Valores, dtype: float64\n"
     ]
    }
   ],
   "source": [
    "print(serie_temporal.shift(-1))"
   ]
  },
  {
   "cell_type": "code",
   "execution_count": 17,
   "id": "195d9267",
   "metadata": {},
   "outputs": [
    {
     "name": "stdout",
     "output_type": "stream",
     "text": [
      "2023-01-01     NaN\n",
      "2023-01-02    41.0\n",
      "2023-01-03   -28.0\n",
      "2023-01-04    52.0\n",
      "2023-01-05    13.0\n",
      "2023-01-06   -51.0\n",
      "2023-01-07    50.0\n",
      "2023-01-08    -5.0\n",
      "2023-01-09   -51.0\n",
      "2023-01-10   -28.0\n",
      "2023-01-11    79.0\n",
      "2023-01-12   -74.0\n",
      "2023-01-13    12.0\n",
      "2023-01-14    50.0\n",
      "2023-01-15    -9.0\n",
      "Freq: D, Name: Valores, dtype: float64\n"
     ]
    }
   ],
   "source": [
    "print(serie_temporal.diff())\n"
   ]
  },
  {
   "cell_type": "markdown",
   "id": "bab8a945",
   "metadata": {},
   "source": [
    "Para cambiar de una muestra diaria a una semanal, media:"
   ]
  },
  {
   "cell_type": "code",
   "execution_count": 35,
   "id": "3954b246",
   "metadata": {},
   "outputs": [
    {
     "name": "stdout",
     "output_type": "stream",
     "text": [
      "2023-01-01    19.000000\n",
      "2023-01-08    72.285714\n",
      "2023-01-15    48.285714\n",
      "Freq: W-SUN, Name: Valores, dtype: float64\n"
     ]
    }
   ],
   "source": [
    "serie_semanal = serie_temporal.resample('W').mean()\n",
    "print(serie_semanal)"
   ]
  },
  {
   "cell_type": "code",
   "execution_count": 36,
   "id": "fd235f5e",
   "metadata": {},
   "outputs": [
    {
     "name": "stdout",
     "output_type": "stream",
     "text": [
      "2023-01-01     19\n",
      "2023-01-08    506\n",
      "2023-01-15    338\n",
      "Freq: W-SUN, Name: Valores, dtype: int32\n"
     ]
    }
   ],
   "source": [
    "print(serie_temporal.resample('W').sum())"
   ]
  },
  {
   "cell_type": "code",
   "execution_count": 37,
   "id": "774ac6cc",
   "metadata": {},
   "outputs": [
    {
     "name": "stdout",
     "output_type": "stream",
     "text": [
      "2023-01-01    19\n",
      "2023-01-08    97\n",
      "2023-01-15    91\n",
      "Freq: W-SUN, Name: Valores, dtype: int32\n"
     ]
    }
   ],
   "source": [
    "print(serie_temporal.resample('W').max())"
   ]
  },
  {
   "cell_type": "code",
   "execution_count": 21,
   "id": "3ae13e1f",
   "metadata": {},
   "outputs": [
    {
     "name": "stdout",
     "output_type": "stream",
     "text": [
      "2023-01-01    10.0\n",
      "2023-01-03    20.0\n",
      "2023-01-05    20.0\n",
      "2023-01-07    40.0\n",
      "2023-01-09    40.0\n",
      "Freq: 2D, dtype: float64\n"
     ]
    }
   ],
   "source": [
    "fechas_incompletas = pd.date_range('2023-01-01', '2023-01-10', freq='2D' )\n",
    "serie_incompleta = pd.Series([10,20, np.nan,40, np.nan], index=fechas_incompletas)\n",
    "print(serie_incompleta.ffill())"
   ]
  },
  {
   "cell_type": "markdown",
   "id": "f796da15",
   "metadata": {},
   "source": [
    "interpolación lineal"
   ]
  },
  {
   "cell_type": "code",
   "execution_count": 22,
   "id": "70ca41f3",
   "metadata": {},
   "outputs": [
    {
     "name": "stdout",
     "output_type": "stream",
     "text": [
      "2023-01-01    10.0\n",
      "2023-01-03    20.0\n",
      "2023-01-05    30.0\n",
      "2023-01-07    40.0\n",
      "2023-01-09    40.0\n",
      "Freq: 2D, dtype: float64\n"
     ]
    }
   ],
   "source": [
    "print(serie_incompleta.interpolate())"
   ]
  },
  {
   "cell_type": "code",
   "execution_count": 27,
   "id": "687fac16",
   "metadata": {},
   "outputs": [
    {
     "name": "stdout",
     "output_type": "stream",
     "text": [
      "2023-01-01    55\n",
      "2023-01-02    92\n",
      "2023-01-03    21\n",
      "2023-01-04    99\n",
      "2023-01-05    36\n",
      "              ..\n",
      "2023-03-27    13\n",
      "2023-03-28    75\n",
      "2023-03-29    24\n",
      "2023-03-30    11\n",
      "2023-03-31    79\n",
      "Freq: D, Length: 90, dtype: int32\n"
     ]
    }
   ],
   "source": [
    "fechas_mesuales = pd.date_range('2023-01-01', periods=90, freq = \"D\")\n",
    "datos_mensuales = np.random.randint(1,100, len(fechas_mesuales))\n",
    "serie_mensual = pd.Series(data=datos_mensuales, index=fechas_mesuales)\n",
    "print(serie_mensual)"
   ]
  },
  {
   "cell_type": "code",
   "execution_count": 29,
   "id": "20283c73",
   "metadata": {},
   "outputs": [
    {
     "name": "stdout",
     "output_type": "stream",
     "text": [
      "2023-01-31    1575\n",
      "2023-02-28    1264\n",
      "2023-03-31    1619\n",
      "Freq: ME, dtype: int32\n"
     ]
    }
   ],
   "source": [
    "print(serie_mensual.resample('ME').sum())"
   ]
  },
  {
   "cell_type": "markdown",
   "id": "fbef665a",
   "metadata": {},
   "source": [
    "Graficas de la serie temporal:"
   ]
  },
  {
   "cell_type": "code",
   "execution_count": 33,
   "id": "83ff5c1d",
   "metadata": {},
   "outputs": [
    {
     "data": {
      "text/plain": [
       "Text(0, 0.5, 'Valor')"
      ]
     },
     "execution_count": 33,
     "metadata": {},
     "output_type": "execute_result"
    },
    {
     "data": {
      "image/png": "[encoded data removed]",
      "text/plain": [
       "<Figure size 640x480 with 1 Axes>"
      ]
     },
     "metadata": {},
     "output_type": "display_data"
    }
   ],
   "source": [
    "import matplotlib.pyplot as plt\n",
    "serie_temporal.plot(label='original', legend=True)\n",
    "serie_semanal.plot(label='semanal (Media)', legend=True)\n",
    "plt.xlabel(\"fecha\")\n",
    "plt.ylabel(\"Valor\")"
   ]
  },
  {
   "cell_type": "markdown",
   "id": "36d7c17a",
   "metadata": {},
   "source": []
  },
  {
   "cell_type": "code",
   "execution_count": null,
   "id": "09735b57",
   "metadata": {},
   "outputs": [],
   "source": []
  }
 ],
 "metadata": {
  "kernelspec": {
   "display_name": "Python 3",
   "language": "python",
   "name": "python3"
  },
  "language_info": {
   "codemirror_mode": {
    "name": "ipython",
    "version": 3
   },
   "file_extension": ".py",
   "mimetype": "text/x-python",
   "name": "python",
   "nbconvert_exporter": "python",
   "pygments_lexer": "ipython3",
   "version": "3.13.5"
  }
 },
 "nbformat": 4,
 "nbformat_minor": 5
}
