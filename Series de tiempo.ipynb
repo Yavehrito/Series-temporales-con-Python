{
 "cells": [
  {
   "cell_type": "markdown",
   "id": "4992cdc0",
   "metadata": {},
   "source": [
    "Generar datos aleatorios:"
   ]
  },
  {
   "cell_type": "code",
   "execution_count": 2,
   "id": "9d265b82",
   "metadata": {},
   "outputs": [],
   "source": [
    "import pandas as pd\n",
    "import numpy as np"
   ]
  },
  {
   "cell_type": "code",
   "execution_count": 3,
   "id": "4de60b5b",
   "metadata": {},
   "outputs": [
    {
     "name": "stdout",
     "output_type": "stream",
     "text": [
      "2023-01-01    71\n",
      "2023-01-02    15\n",
      "2023-01-03     2\n",
      "2023-01-04    70\n",
      "2023-01-05    71\n",
      "2023-01-06    69\n",
      "2023-01-07    67\n",
      "2023-01-08    96\n",
      "2023-01-09    43\n",
      "2023-01-10    75\n",
      "2023-01-11    42\n",
      "2023-01-12    77\n",
      "2023-01-13     4\n",
      "2023-01-14    87\n",
      "2023-01-15    94\n",
      "Freq: D, Name: Valores, dtype: int32\n"
     ]
    }
   ],
   "source": [
    "fechas = pd.date_range(start='2023-01-01', end='2023-01-15', freq='D')\n",
    "datos = np.random.randint(1,100, len(fechas))\n",
    "serie_temporal = pd.Series(data=datos, index=fechas, name='Valores') \n",
    "print(serie_temporal)\n"
   ]
  },
  {
   "cell_type": "markdown",
   "id": "b9455417",
   "metadata": {},
   "source": [
    "Para acceder a los datos:"
   ]
  },
  {
   "cell_type": "markdown",
   "id": "03c0c13b",
   "metadata": {},
   "source": [
    "Directamente a una fecha:"
   ]
  },
  {
   "cell_type": "code",
   "execution_count": 4,
   "id": "a69dca25",
   "metadata": {},
   "outputs": [
    {
     "name": "stdout",
     "output_type": "stream",
     "text": [
      "71\n"
     ]
    }
   ],
   "source": [
    "print(serie_temporal['2023-01-05'])"
   ]
  },
  {
   "cell_type": "markdown",
   "id": "2b2278cb",
   "metadata": {},
   "source": [
    "Indice posicional:"
   ]
  },
  {
   "cell_type": "code",
   "execution_count": 5,
   "id": "cccaa118",
   "metadata": {},
   "outputs": [
    {
     "name": "stdout",
     "output_type": "stream",
     "text": [
      "71\n"
     ]
    }
   ],
   "source": [
    "print(serie_temporal.iloc[4])\n"
   ]
  },
  {
   "cell_type": "markdown",
   "id": "4aa39a1f",
   "metadata": {},
   "source": [
    "Para rangos de fechas de forma explicita:"
   ]
  },
  {
   "cell_type": "code",
   "execution_count": 6,
   "id": "39935776",
   "metadata": {},
   "outputs": [
    {
     "name": "stdout",
     "output_type": "stream",
     "text": [
      "2023-01-05    71\n",
      "2023-01-06    69\n",
      "2023-01-07    67\n",
      "2023-01-08    96\n",
      "2023-01-09    43\n",
      "2023-01-10    75\n",
      "Freq: D, Name: Valores, dtype: int32\n"
     ]
    }
   ],
   "source": [
    "print(serie_temporal['2023-01-05':'2023-01-10'])  "
   ]
  },
  {
   "cell_type": "markdown",
   "id": "48115ea2",
   "metadata": {},
   "source": [
    "Para una selección por posición:"
   ]
  },
  {
   "cell_type": "code",
   "execution_count": 7,
   "id": "231cc3e0",
   "metadata": {},
   "outputs": [
    {
     "name": "stdout",
     "output_type": "stream",
     "text": [
      "2023-01-03     2\n",
      "2023-01-04    70\n",
      "2023-01-05    71\n",
      "2023-01-06    69\n",
      "2023-01-07    67\n",
      "2023-01-08    96\n",
      "Freq: D, Name: Valores, dtype: int32\n"
     ]
    }
   ],
   "source": [
    "print(serie_temporal[2:8] ) "
   ]
  },
  {
   "cell_type": "markdown",
   "id": "e46bb5df",
   "metadata": {},
   "source": [
    "Selección por condiciones "
   ]
  },
  {
   "cell_type": "code",
   "execution_count": 8,
   "id": "dfe1a068",
   "metadata": {},
   "outputs": [
    {
     "name": "stdout",
     "output_type": "stream",
     "text": [
      "2023-01-01    71\n",
      "2023-01-04    70\n",
      "2023-01-05    71\n",
      "2023-01-06    69\n",
      "2023-01-07    67\n",
      "2023-01-08    96\n",
      "2023-01-10    75\n",
      "2023-01-12    77\n",
      "2023-01-14    87\n",
      "2023-01-15    94\n",
      "Name: Valores, dtype: int32\n"
     ]
    }
   ],
   "source": [
    "print(serie_temporal[serie_temporal>50])  "
   ]
  },
  {
   "cell_type": "markdown",
   "id": "d15024df",
   "metadata": {},
   "source": [
    "Metodos loc e iloc:\n",
    "iloc por posición, loc indice particular"
   ]
  },
  {
   "cell_type": "code",
   "execution_count": 9,
   "id": "94a5a660",
   "metadata": {},
   "outputs": [
    {
     "name": "stdout",
     "output_type": "stream",
     "text": [
      "71\n",
      "2023-01-05    71\n",
      "2023-01-06    69\n",
      "2023-01-07    67\n",
      "2023-01-08    96\n",
      "2023-01-09    43\n",
      "2023-01-10    75\n",
      "Freq: D, Name: Valores, dtype: int32\n",
      "71\n",
      "2023-01-03     2\n",
      "2023-01-04    70\n",
      "2023-01-05    71\n",
      "2023-01-06    69\n",
      "2023-01-07    67\n",
      "2023-01-08    96\n",
      "Freq: D, Name: Valores, dtype: int32\n"
     ]
    }
   ],
   "source": [
    "print(serie_temporal.loc['2023-01-05'])\n",
    "print(serie_temporal.loc['2023-01-05':'2023-01-10']) \n",
    "print(serie_temporal.iloc[4])\n",
    "print(serie_temporal.iloc[2:8])"
   ]
  },
  {
   "cell_type": "markdown",
   "id": "14423948",
   "metadata": {},
   "source": [
    "Para nuevas fechas re-indexadas: "
   ]
  },
  {
   "cell_type": "code",
   "execution_count": 10,
   "id": "559ae336",
   "metadata": {},
   "outputs": [
    {
     "name": "stdout",
     "output_type": "stream",
     "text": [
      "2023-01-01    71\n",
      "2023-01-02    15\n",
      "2023-01-03     2\n",
      "2023-01-04    70\n",
      "2023-01-05    71\n",
      "2023-01-06    69\n",
      "2023-01-07    67\n",
      "2023-01-08    96\n",
      "2023-01-09    43\n",
      "2023-01-10    75\n",
      "2023-01-11    42\n",
      "2023-01-12    77\n",
      "2023-01-13     4\n",
      "2023-01-14    87\n",
      "2023-01-15    94\n",
      "2023-01-16     0\n",
      "2023-01-17     0\n",
      "2023-01-18     0\n",
      "2023-01-19     0\n",
      "2023-01-20     0\n",
      "Freq: D, Name: Valores, dtype: int32\n"
     ]
    }
   ],
   "source": [
    "nuevas_fechas = pd.date_range(start='2023-01-01', end='2023-01-20', freq='D')\n",
    "serie_reindexada = serie_temporal.reindex(nuevas_fechas, fill_value=0)\n",
    "print(serie_reindexada)"
   ]
  },
  {
   "cell_type": "markdown",
   "id": "1a9a8256",
   "metadata": {},
   "source": [
    "Podemos hacer un ajuste de frecuencia: utiliza el promedio de los días "
   ]
  },
  {
   "cell_type": "code",
   "execution_count": 11,
   "id": "995fd889",
   "metadata": {},
   "outputs": [
    {
     "name": "stdout",
     "output_type": "stream",
     "text": [
      "2023-01-01    71.000000\n",
      "2023-01-08    55.714286\n",
      "2023-01-15    60.285714\n",
      "Freq: W-SUN, Name: Valores, dtype: float64\n"
     ]
    }
   ],
   "source": [
    "serie_semanal = serie_temporal.resample('W').mean()\n",
    "print(serie_semanal)"
   ]
  },
  {
   "cell_type": "markdown",
   "id": "04208ce7",
   "metadata": {},
   "source": [
    "Operaciones basicas"
   ]
  },
  {
   "cell_type": "code",
   "execution_count": 12,
   "id": "eaf71e48",
   "metadata": {},
   "outputs": [
    {
     "name": "stdout",
     "output_type": "stream",
     "text": [
      "2023-01-01     81\n",
      "2023-01-02     25\n",
      "2023-01-03     12\n",
      "2023-01-04     80\n",
      "2023-01-05     81\n",
      "2023-01-06     79\n",
      "2023-01-07     77\n",
      "2023-01-08    106\n",
      "2023-01-09     53\n",
      "2023-01-10     85\n",
      "2023-01-11     52\n",
      "2023-01-12     87\n",
      "2023-01-13     14\n",
      "2023-01-14     97\n",
      "2023-01-15    104\n",
      "Freq: D, Name: Valores, dtype: int32\n"
     ]
    }
   ],
   "source": [
    "print(serie_temporal + 10)"
   ]
  },
  {
   "cell_type": "code",
   "execution_count": 13,
   "id": "ccdcb959",
   "metadata": {},
   "outputs": [
    {
     "name": "stdout",
     "output_type": "stream",
     "text": [
      "2023-01-01    142\n",
      "2023-01-02     30\n",
      "2023-01-03      4\n",
      "2023-01-04    140\n",
      "2023-01-05    142\n",
      "2023-01-06    138\n",
      "2023-01-07    134\n",
      "2023-01-08    192\n",
      "2023-01-09     86\n",
      "2023-01-10    150\n",
      "2023-01-11     84\n",
      "2023-01-12    154\n",
      "2023-01-13      8\n",
      "2023-01-14    174\n",
      "2023-01-15    188\n",
      "Freq: D, Name: Valores, dtype: int32\n"
     ]
    }
   ],
   "source": [
    "print(serie_temporal * 2)"
   ]
  },
  {
   "cell_type": "code",
   "execution_count": 14,
   "id": "85e8887a",
   "metadata": {},
   "outputs": [
    {
     "name": "stdout",
     "output_type": "stream",
     "text": [
      "Media: 58.86666666666667\n",
      "Mediana: 70.0\n",
      "Max: 96\n",
      "Min: 2\n",
      "Desviación estándar: 30.805534444007822\n"
     ]
    }
   ],
   "source": [
    "print(\"Media:\", serie_temporal.mean())\n",
    "print(\"Mediana:\", serie_temporal.median())\n",
    "print(\"Max:\", serie_temporal.max())\n",
    "print(\"Min:\", serie_temporal.min())\n",
    "print(\"Desviación estándar:\", serie_temporal.std())\n"
   ]
  },
  {
   "cell_type": "markdown",
   "id": "18bfd574",
   "metadata": {},
   "source": [
    "desplazar dator"
   ]
  },
  {
   "cell_type": "code",
   "execution_count": 15,
   "id": "ee2fc5b9",
   "metadata": {},
   "outputs": [
    {
     "name": "stdout",
     "output_type": "stream",
     "text": [
      "2023-01-01     NaN\n",
      "2023-01-02    71.0\n",
      "2023-01-03    15.0\n",
      "2023-01-04     2.0\n",
      "2023-01-05    70.0\n",
      "2023-01-06    71.0\n",
      "2023-01-07    69.0\n",
      "2023-01-08    67.0\n",
      "2023-01-09    96.0\n",
      "2023-01-10    43.0\n",
      "2023-01-11    75.0\n",
      "2023-01-12    42.0\n",
      "2023-01-13    77.0\n",
      "2023-01-14     4.0\n",
      "2023-01-15    87.0\n",
      "Freq: D, Name: Valores, dtype: float64\n"
     ]
    }
   ],
   "source": [
    "print(serie_temporal.shift(1))"
   ]
  },
  {
   "cell_type": "code",
   "execution_count": 16,
   "id": "68f0a923",
   "metadata": {},
   "outputs": [
    {
     "name": "stdout",
     "output_type": "stream",
     "text": [
      "2023-01-01    15.0\n",
      "2023-01-02     2.0\n",
      "2023-01-03    70.0\n",
      "2023-01-04    71.0\n",
      "2023-01-05    69.0\n",
      "2023-01-06    67.0\n",
      "2023-01-07    96.0\n",
      "2023-01-08    43.0\n",
      "2023-01-09    75.0\n",
      "2023-01-10    42.0\n",
      "2023-01-11    77.0\n",
      "2023-01-12     4.0\n",
      "2023-01-13    87.0\n",
      "2023-01-14    94.0\n",
      "2023-01-15     NaN\n",
      "Freq: D, Name: Valores, dtype: float64\n"
     ]
    }
   ],
   "source": [
    "print(serie_temporal.shift(-1))"
   ]
  },
  {
   "cell_type": "code",
   "execution_count": 17,
   "id": "195d9267",
   "metadata": {},
   "outputs": [
    {
     "name": "stdout",
     "output_type": "stream",
     "text": [
      "2023-01-01     NaN\n",
      "2023-01-02   -56.0\n",
      "2023-01-03   -13.0\n",
      "2023-01-04    68.0\n",
      "2023-01-05     1.0\n",
      "2023-01-06    -2.0\n",
      "2023-01-07    -2.0\n",
      "2023-01-08    29.0\n",
      "2023-01-09   -53.0\n",
      "2023-01-10    32.0\n",
      "2023-01-11   -33.0\n",
      "2023-01-12    35.0\n",
      "2023-01-13   -73.0\n",
      "2023-01-14    83.0\n",
      "2023-01-15     7.0\n",
      "Freq: D, Name: Valores, dtype: float64\n"
     ]
    }
   ],
   "source": [
    "print(serie_temporal.diff())\n"
   ]
  },
  {
   "cell_type": "markdown",
   "id": "bab8a945",
   "metadata": {},
   "source": [
    "Para cambiar de una muestra diaria a una semanal, media:"
   ]
  },
  {
   "cell_type": "code",
   "execution_count": 19,
   "id": "3954b246",
   "metadata": {},
   "outputs": [
    {
     "name": "stdout",
     "output_type": "stream",
     "text": [
      "2023-01-01    71.000000\n",
      "2023-01-08    55.714286\n",
      "2023-01-15    60.285714\n",
      "Freq: W-SUN, Name: Valores, dtype: float64\n"
     ]
    }
   ],
   "source": [
    "serie_semanal = serie_temporal.resample('W').mean()\n",
    "print(serie_semanal)"
   ]
  },
  {
   "cell_type": "code",
   "execution_count": 21,
   "id": "fd235f5e",
   "metadata": {},
   "outputs": [
    {
     "name": "stdout",
     "output_type": "stream",
     "text": [
      "2023-01-01     71\n",
      "2023-01-08    390\n",
      "2023-01-15    422\n",
      "Freq: W-SUN, Name: Valores, dtype: int32\n"
     ]
    },
    {
     "name": "stderr",
     "output_type": "stream",
     "text": [
      "C:\\Users\\Yaveh\\AppData\\Local\\Temp\\ipykernel_33124\\2639544262.py:1: FutureWarning: 'w' is deprecated and will be removed in a future version, please use 'W' instead.\n",
      "  print(serie_temporal.resample('w').sum())\n"
     ]
    }
   ],
   "source": [
    "print(serie_temporal.resample('w').sum())"
   ]
  },
  {
   "cell_type": "code",
   "execution_count": 22,
   "id": "774ac6cc",
   "metadata": {},
   "outputs": [
    {
     "name": "stdout",
     "output_type": "stream",
     "text": [
      "2023-01-01    71\n",
      "2023-01-08    96\n",
      "2023-01-15    94\n",
      "Freq: W-SUN, Name: Valores, dtype: int32\n"
     ]
    },
    {
     "name": "stderr",
     "output_type": "stream",
     "text": [
      "C:\\Users\\Yaveh\\AppData\\Local\\Temp\\ipykernel_33124\\672124385.py:1: FutureWarning: 'w' is deprecated and will be removed in a future version, please use 'W' instead.\n",
      "  print(serie_temporal.resample('w').max())\n"
     ]
    }
   ],
   "source": [
    "print(serie_temporal.resample('w').max())"
   ]
  },
  {
   "cell_type": "code",
   "execution_count": 28,
   "id": "3ae13e1f",
   "metadata": {},
   "outputs": [
    {
     "name": "stdout",
     "output_type": "stream",
     "text": [
      "2023-01-01    10.0\n",
      "2023-01-03    20.0\n",
      "2023-01-05    20.0\n",
      "2023-01-07    40.0\n",
      "2023-01-09    40.0\n",
      "Freq: 2D, dtype: float64\n"
     ]
    }
   ],
   "source": [
    "fechas_incompletas = pd.date_range('2023-01-01', '2023-01-10', freq='2D' )\n",
    "serie_incompleta = pd.Series([10,20, np.nan,40, np.nan], index=fechas_incompletas)\n",
    "print(serie_incompleta.ffill())"
   ]
  },
  {
   "cell_type": "markdown",
   "id": "f796da15",
   "metadata": {},
   "source": [
    "interpolación lineal"
   ]
  },
  {
   "cell_type": "code",
   "execution_count": 29,
   "id": "70ca41f3",
   "metadata": {},
   "outputs": [
    {
     "name": "stdout",
     "output_type": "stream",
     "text": [
      "2023-01-01    10.0\n",
      "2023-01-03    20.0\n",
      "2023-01-05    30.0\n",
      "2023-01-07    40.0\n",
      "2023-01-09    40.0\n",
      "Freq: 2D, dtype: float64\n"
     ]
    }
   ],
   "source": [
    "print(serie_incompleta.interpolate())"
   ]
  }
 ],
 "metadata": {
  "kernelspec": {
   "display_name": "Python 3",
   "language": "python",
   "name": "python3"
  },
  "language_info": {
   "codemirror_mode": {
    "name": "ipython",
    "version": 3
   },
   "file_extension": ".py",
   "mimetype": "text/x-python",
   "name": "python",
   "nbconvert_exporter": "python",
   "pygments_lexer": "ipython3",
   "version": "3.13.5"
  }
 },
 "nbformat": 4,
 "nbformat_minor": 5
}
